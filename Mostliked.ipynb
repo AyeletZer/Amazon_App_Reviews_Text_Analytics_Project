{
 "cells": [
  {
   "cell_type": "code",
   "execution_count": 1,
   "metadata": {},
   "outputs": [],
   "source": [
    "import pandas as pd\n",
    "import numpy as np\n",
    "import matplotlib.pyplot as plt\n",
    "import seaborn as sns\n",
    "pd.set_option('display.max_rows', None)"
   ]
  },
  {
   "cell_type": "code",
   "execution_count": 2,
   "metadata": {},
   "outputs": [],
   "source": [
    "df = pd.read_csv('amazon_reviews.csv')"
   ]
  },
  {
   "cell_type": "code",
   "execution_count": 3,
   "metadata": {},
   "outputs": [
    {
     "data": {
      "text/html": [
       "<div>\n",
       "<style scoped>\n",
       "    .dataframe tbody tr th:only-of-type {\n",
       "        vertical-align: middle;\n",
       "    }\n",
       "\n",
       "    .dataframe tbody tr th {\n",
       "        vertical-align: top;\n",
       "    }\n",
       "\n",
       "    .dataframe thead th {\n",
       "        text-align: right;\n",
       "    }\n",
       "</style>\n",
       "<table border=\"1\" class=\"dataframe\">\n",
       "  <thead>\n",
       "    <tr style=\"text-align: right;\">\n",
       "      <th></th>\n",
       "      <th>reviewId</th>\n",
       "      <th>userName</th>\n",
       "      <th>content</th>\n",
       "      <th>score</th>\n",
       "      <th>thumbsUpCount</th>\n",
       "      <th>reviewCreatedVersion</th>\n",
       "      <th>at</th>\n",
       "      <th>appVersion</th>\n",
       "    </tr>\n",
       "  </thead>\n",
       "  <tbody>\n",
       "    <tr>\n",
       "      <th>0</th>\n",
       "      <td>d5a7e529-2077-42dd-a624-21df7a9d5bc0</td>\n",
       "      <td>sateesh gunda</td>\n",
       "      <td>Cheating,I have cancelled my subscription befo...</td>\n",
       "      <td>1</td>\n",
       "      <td>0</td>\n",
       "      <td>28.18.0.100</td>\n",
       "      <td>2024-09-21 16:07:04</td>\n",
       "      <td>28.18.0.100</td>\n",
       "    </tr>\n",
       "    <tr>\n",
       "      <th>1</th>\n",
       "      <td>84c32777-b078-47dd-b8f2-d42e9843482b</td>\n",
       "      <td>Alexis Harber</td>\n",
       "      <td>I'm echoing everyone else's sentiment the new ...</td>\n",
       "      <td>1</td>\n",
       "      <td>0</td>\n",
       "      <td>28.18.0.100</td>\n",
       "      <td>2024-09-21 16:03:47</td>\n",
       "      <td>28.18.0.100</td>\n",
       "    </tr>\n",
       "    <tr>\n",
       "      <th>2</th>\n",
       "      <td>7e30d63b-042b-4175-9af9-09b36d0496b1</td>\n",
       "      <td>Carly-jade Howard</td>\n",
       "      <td>I really like it it's great for bdays</td>\n",
       "      <td>3</td>\n",
       "      <td>0</td>\n",
       "      <td>28.18.0.100</td>\n",
       "      <td>2024-09-21 15:39:27</td>\n",
       "      <td>28.18.0.100</td>\n",
       "    </tr>\n",
       "    <tr>\n",
       "      <th>3</th>\n",
       "      <td>b6acf26a-1cd7-4e63-87ff-dc57524e5ab7</td>\n",
       "      <td>Bryan Shackelford</td>\n",
       "      <td>App keeps crashing I open it ,it crashes can't...</td>\n",
       "      <td>1</td>\n",
       "      <td>1</td>\n",
       "      <td>28.18.0.100</td>\n",
       "      <td>2024-09-21 15:28:41</td>\n",
       "      <td>28.18.0.100</td>\n",
       "    </tr>\n",
       "    <tr>\n",
       "      <th>4</th>\n",
       "      <td>1f39586f-4ae5-4a37-8a02-1492293e83c3</td>\n",
       "      <td>Tim Tucker</td>\n",
       "      <td>It's messed up, not accurate. I had to go into...</td>\n",
       "      <td>2</td>\n",
       "      <td>1</td>\n",
       "      <td>28.18.0.100</td>\n",
       "      <td>2024-09-21 15:19:33</td>\n",
       "      <td>28.18.0.100</td>\n",
       "    </tr>\n",
       "  </tbody>\n",
       "</table>\n",
       "</div>"
      ],
      "text/plain": [
       "                               reviewId           userName  \\\n",
       "0  d5a7e529-2077-42dd-a624-21df7a9d5bc0      sateesh gunda   \n",
       "1  84c32777-b078-47dd-b8f2-d42e9843482b      Alexis Harber   \n",
       "2  7e30d63b-042b-4175-9af9-09b36d0496b1  Carly-jade Howard   \n",
       "3  b6acf26a-1cd7-4e63-87ff-dc57524e5ab7  Bryan Shackelford   \n",
       "4  1f39586f-4ae5-4a37-8a02-1492293e83c3         Tim Tucker   \n",
       "\n",
       "                                             content  score  thumbsUpCount  \\\n",
       "0  Cheating,I have cancelled my subscription befo...      1              0   \n",
       "1  I'm echoing everyone else's sentiment the new ...      1              0   \n",
       "2              I really like it it's great for bdays      3              0   \n",
       "3  App keeps crashing I open it ,it crashes can't...      1              1   \n",
       "4  It's messed up, not accurate. I had to go into...      2              1   \n",
       "\n",
       "  reviewCreatedVersion                   at   appVersion  \n",
       "0          28.18.0.100  2024-09-21 16:07:04  28.18.0.100  \n",
       "1          28.18.0.100  2024-09-21 16:03:47  28.18.0.100  \n",
       "2          28.18.0.100  2024-09-21 15:39:27  28.18.0.100  \n",
       "3          28.18.0.100  2024-09-21 15:28:41  28.18.0.100  \n",
       "4          28.18.0.100  2024-09-21 15:19:33  28.18.0.100  "
      ]
     },
     "execution_count": 3,
     "metadata": {},
     "output_type": "execute_result"
    }
   ],
   "source": [
    "df.head()"
   ]
  },
  {
   "cell_type": "code",
   "execution_count": 4,
   "metadata": {},
   "outputs": [],
   "source": [
    "# Identifying the most positive and most negative reviews with highest thumbs up count\n",
    "most_positive_review = df[df['score'] == df['score'].max()].sort_values(by='thumbsUpCount', ascending=False).iloc[0]\n",
    "most_negative_review = df[df['score'] == df['score'].min()].sort_values(by='thumbsUpCount', ascending=False).iloc[0]"
   ]
  },
  {
   "cell_type": "code",
   "execution_count": 5,
   "metadata": {},
   "outputs": [
    {
     "name": "stdout",
     "output_type": "stream",
     "text": [
      "Most Positive Review with Highest Thumbs Up Count:\n",
      "reviewId                             18979617-37fd-40d9-ba52-c71fa644d9ca\n",
      "userName                                                   Corinne Corner\n",
      "content                 Fantastic Shopping App!! Amazon has almost eve...\n",
      "score                                                                   5\n",
      "thumbsUpCount                                                        5660\n",
      "reviewCreatedVersion                                          20.13.0.100\n",
      "at                                                    2020-08-15 18:16:31\n",
      "appVersion                                                    20.13.0.100\n",
      "Name: 16247, dtype: object\n"
     ]
    }
   ],
   "source": [
    "print(\"Most Positive Review with Highest Thumbs Up Count:\")\n",
    "print(most_positive_review)"
   ]
  },
  {
   "cell_type": "markdown",
   "metadata": {},
   "source": [
    "#### Fantastic Shopping App!! Amazon has almost everything a person could hope for!! The prices vary from very advantageous to ridiculously high. I believe they're high when Amazon doesn't want to carry that product. So that's when I shop elsewhere. Amazon usually exceeds my expectations! Whatever you buy can be returned with no hassle and Amazon pays the return shipping! I have several subscriptions for basic home products that I save a lot of money on plus I get a 5 or 15% discount on each of them!"
   ]
  },
  {
   "cell_type": "code",
   "execution_count": 6,
   "metadata": {},
   "outputs": [
    {
     "name": "stdout",
     "output_type": "stream",
     "text": [
      "\n",
      "Most Negative Review with Highest Thumbs Up Count:\n",
      "reviewId                             41a915ce-bb97-48b8-a2f0-399b1541226e\n",
      "userName                                                           eq6222\n",
      "content                 Time to fire the product manager! Sadly, still...\n",
      "score                                                                   1\n",
      "thumbsUpCount                                                        5213\n",
      "reviewCreatedVersion                                           28.1.0.100\n",
      "at                                                    2024-01-25 04:19:31\n",
      "appVersion                                                     28.1.0.100\n",
      "Name: 17793, dtype: object\n"
     ]
    }
   ],
   "source": [
    "print(\"\\nMost Negative Review with Highest Thumbs Up Count:\")\n",
    "print(most_negative_review)"
   ]
  },
  {
   "cell_type": "markdown",
   "metadata": {},
   "source": [
    "#### Time to fire the product manager! Sadly, still in Jan 2024 app has major deficiencies. Does not support dark mode. Does not have accessibility settings. Search returns many irrelevant results. Order history shortened to 3 months."
   ]
  }
 ],
 "metadata": {
  "kernelspec": {
   "display_name": "Python 3",
   "language": "python",
   "name": "python3"
  },
  "language_info": {
   "codemirror_mode": {
    "name": "ipython",
    "version": 3
   },
   "file_extension": ".py",
   "mimetype": "text/x-python",
   "name": "python",
   "nbconvert_exporter": "python",
   "pygments_lexer": "ipython3",
   "version": "3.12.5"
  }
 },
 "nbformat": 4,
 "nbformat_minor": 2
}
