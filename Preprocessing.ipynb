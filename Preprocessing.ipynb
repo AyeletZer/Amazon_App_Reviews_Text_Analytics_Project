{
 "cells": [
  {
   "cell_type": "markdown",
   "metadata": {},
   "source": [
    "# This notebook aims to clean and preprocess the Amazon Review csv file for further analysis"
   ]
  },
  {
   "cell_type": "code",
   "execution_count": 1,
   "metadata": {},
   "outputs": [
    {
     "name": "stderr",
     "output_type": "stream",
     "text": [
      "[nltk_data] Downloading package averaged_perceptron_tagger to\n",
      "[nltk_data]     C:\\Users\\Owner\\AppData\\Roaming\\nltk_data...\n",
      "[nltk_data]   Package averaged_perceptron_tagger is already up-to-\n",
      "[nltk_data]       date!\n",
      "[nltk_data] Downloading package wordnet to\n",
      "[nltk_data]     C:\\Users\\Owner\\AppData\\Roaming\\nltk_data...\n",
      "[nltk_data]   Package wordnet is already up-to-date!\n",
      "[nltk_data] Downloading package stopwords to\n",
      "[nltk_data]     C:\\Users\\Owner\\AppData\\Roaming\\nltk_data...\n",
      "[nltk_data]   Package stopwords is already up-to-date!\n",
      "[nltk_data] Downloading package vader_lexicon to\n",
      "[nltk_data]     C:\\Users\\Owner\\AppData\\Roaming\\nltk_data...\n",
      "[nltk_data]   Package vader_lexicon is already up-to-date!\n",
      "[nltk_data] Downloading package punkt to\n",
      "[nltk_data]     C:\\Users\\Owner\\AppData\\Roaming\\nltk_data...\n",
      "[nltk_data]   Package punkt is already up-to-date!\n"
     ]
    }
   ],
   "source": [
    "import pandas as pd\n",
    "import numpy as np\n",
    "from nltk.corpus import stopwords\n",
    "import string\n",
    "import nltk\n",
    "from nltk.corpus import stopwords\n",
    "from nltk.stem import WordNetLemmatizer\n",
    "from nltk.corpus import wordnet\n",
    "nltk.download('averaged_perceptron_tagger')\n",
    "nltk.download('wordnet')\n",
    "nltk.download('stopwords')\n",
    "stop = stopwords.words('english')\n",
    "nltk.download('vader_lexicon')\n",
    "nltk.download('punkt')\n",
    "import warnings\n",
    "warnings.filterwarnings(\"ignore\")"
   ]
  },
  {
   "cell_type": "code",
   "execution_count": 2,
   "metadata": {},
   "outputs": [],
   "source": [
    "reviews = pd.read_csv('amazon_reviews.csv')"
   ]
  },
  {
   "cell_type": "code",
   "execution_count": 3,
   "metadata": {},
   "outputs": [
    {
     "data": {
      "text/html": [
       "<div>\n",
       "<style scoped>\n",
       "    .dataframe tbody tr th:only-of-type {\n",
       "        vertical-align: middle;\n",
       "    }\n",
       "\n",
       "    .dataframe tbody tr th {\n",
       "        vertical-align: top;\n",
       "    }\n",
       "\n",
       "    .dataframe thead th {\n",
       "        text-align: right;\n",
       "    }\n",
       "</style>\n",
       "<table border=\"1\" class=\"dataframe\">\n",
       "  <thead>\n",
       "    <tr style=\"text-align: right;\">\n",
       "      <th></th>\n",
       "      <th>reviewId</th>\n",
       "      <th>userName</th>\n",
       "      <th>content</th>\n",
       "      <th>score</th>\n",
       "      <th>thumbsUpCount</th>\n",
       "      <th>reviewCreatedVersion</th>\n",
       "      <th>at</th>\n",
       "      <th>appVersion</th>\n",
       "    </tr>\n",
       "  </thead>\n",
       "  <tbody>\n",
       "    <tr>\n",
       "      <th>0</th>\n",
       "      <td>d5a7e529-2077-42dd-a624-21df7a9d5bc0</td>\n",
       "      <td>sateesh gunda</td>\n",
       "      <td>Cheating,I have cancelled my subscription befo...</td>\n",
       "      <td>1</td>\n",
       "      <td>0</td>\n",
       "      <td>28.18.0.100</td>\n",
       "      <td>2024-09-21 16:07:04</td>\n",
       "      <td>28.18.0.100</td>\n",
       "    </tr>\n",
       "    <tr>\n",
       "      <th>1</th>\n",
       "      <td>84c32777-b078-47dd-b8f2-d42e9843482b</td>\n",
       "      <td>Alexis Harber</td>\n",
       "      <td>I'm echoing everyone else's sentiment the new ...</td>\n",
       "      <td>1</td>\n",
       "      <td>0</td>\n",
       "      <td>28.18.0.100</td>\n",
       "      <td>2024-09-21 16:03:47</td>\n",
       "      <td>28.18.0.100</td>\n",
       "    </tr>\n",
       "    <tr>\n",
       "      <th>2</th>\n",
       "      <td>7e30d63b-042b-4175-9af9-09b36d0496b1</td>\n",
       "      <td>Carly-jade Howard</td>\n",
       "      <td>I really like it it's great for bdays</td>\n",
       "      <td>3</td>\n",
       "      <td>0</td>\n",
       "      <td>28.18.0.100</td>\n",
       "      <td>2024-09-21 15:39:27</td>\n",
       "      <td>28.18.0.100</td>\n",
       "    </tr>\n",
       "    <tr>\n",
       "      <th>3</th>\n",
       "      <td>b6acf26a-1cd7-4e63-87ff-dc57524e5ab7</td>\n",
       "      <td>Bryan Shackelford</td>\n",
       "      <td>App keeps crashing I open it ,it crashes can't...</td>\n",
       "      <td>1</td>\n",
       "      <td>1</td>\n",
       "      <td>28.18.0.100</td>\n",
       "      <td>2024-09-21 15:28:41</td>\n",
       "      <td>28.18.0.100</td>\n",
       "    </tr>\n",
       "    <tr>\n",
       "      <th>4</th>\n",
       "      <td>1f39586f-4ae5-4a37-8a02-1492293e83c3</td>\n",
       "      <td>Tim Tucker</td>\n",
       "      <td>It's messed up, not accurate. I had to go into...</td>\n",
       "      <td>2</td>\n",
       "      <td>1</td>\n",
       "      <td>28.18.0.100</td>\n",
       "      <td>2024-09-21 15:19:33</td>\n",
       "      <td>28.18.0.100</td>\n",
       "    </tr>\n",
       "  </tbody>\n",
       "</table>\n",
       "</div>"
      ],
      "text/plain": [
       "                               reviewId           userName  \\\n",
       "0  d5a7e529-2077-42dd-a624-21df7a9d5bc0      sateesh gunda   \n",
       "1  84c32777-b078-47dd-b8f2-d42e9843482b      Alexis Harber   \n",
       "2  7e30d63b-042b-4175-9af9-09b36d0496b1  Carly-jade Howard   \n",
       "3  b6acf26a-1cd7-4e63-87ff-dc57524e5ab7  Bryan Shackelford   \n",
       "4  1f39586f-4ae5-4a37-8a02-1492293e83c3         Tim Tucker   \n",
       "\n",
       "                                             content  score  thumbsUpCount  \\\n",
       "0  Cheating,I have cancelled my subscription befo...      1              0   \n",
       "1  I'm echoing everyone else's sentiment the new ...      1              0   \n",
       "2              I really like it it's great for bdays      3              0   \n",
       "3  App keeps crashing I open it ,it crashes can't...      1              1   \n",
       "4  It's messed up, not accurate. I had to go into...      2              1   \n",
       "\n",
       "  reviewCreatedVersion                   at   appVersion  \n",
       "0          28.18.0.100  2024-09-21 16:07:04  28.18.0.100  \n",
       "1          28.18.0.100  2024-09-21 16:03:47  28.18.0.100  \n",
       "2          28.18.0.100  2024-09-21 15:39:27  28.18.0.100  \n",
       "3          28.18.0.100  2024-09-21 15:28:41  28.18.0.100  \n",
       "4          28.18.0.100  2024-09-21 15:19:33  28.18.0.100  "
      ]
     },
     "execution_count": 3,
     "metadata": {},
     "output_type": "execute_result"
    }
   ],
   "source": [
    "reviews.head()"
   ]
  },
  {
   "cell_type": "markdown",
   "metadata": {},
   "source": [
    "# Data Cleaning"
   ]
  },
  {
   "cell_type": "code",
   "execution_count": 4,
   "metadata": {},
   "outputs": [
    {
     "data": {
      "text/plain": [
       "reviewId                   0\n",
       "userName                   5\n",
       "content                    4\n",
       "score                      0\n",
       "thumbsUpCount              0\n",
       "reviewCreatedVersion    6373\n",
       "at                         0\n",
       "appVersion              6373\n",
       "dtype: int64"
      ]
     },
     "execution_count": 4,
     "metadata": {},
     "output_type": "execute_result"
    }
   ],
   "source": [
    "# Checking for nulls\n",
    "reviews.isnull().sum()"
   ]
  },
  {
   "cell_type": "code",
   "execution_count": 5,
   "metadata": {},
   "outputs": [],
   "source": [
    "# Drop columns reviewCreatedVersion and appVersion\n",
    "reviews.drop(['reviewCreatedVersion', 'appVersion', 'reviewId'], axis=1, inplace=True)"
   ]
  },
  {
   "cell_type": "code",
   "execution_count": 6,
   "metadata": {},
   "outputs": [],
   "source": [
    "# Fill username nulls with 'Unknown'\n",
    "reviews['userName'].fillna('Unknown', inplace=True)"
   ]
  },
  {
   "cell_type": "code",
   "execution_count": 7,
   "metadata": {},
   "outputs": [],
   "source": [
    "reviews.dropna(inplace=True)"
   ]
  },
  {
   "cell_type": "code",
   "execution_count": 8,
   "metadata": {},
   "outputs": [
    {
     "data": {
      "text/plain": [
       "(61353, 5)"
      ]
     },
     "execution_count": 8,
     "metadata": {},
     "output_type": "execute_result"
    }
   ],
   "source": [
    "reviews.shape"
   ]
  },
  {
   "cell_type": "markdown",
   "metadata": {},
   "source": [
    "### Fixing encoding issues â€™ were showing in excel instead of \" ' \"."
   ]
  },
  {
   "cell_type": "code",
   "execution_count": 9,
   "metadata": {},
   "outputs": [],
   "source": [
    "# Fix encoding issues in text by re-encoding from Windows-1252 to UTF-8\n",
    "def fix_encoding(text):\n",
    "    return text.encode('windows-1252', errors='ignore').decode('utf-8', errors='ignore')"
   ]
  },
  {
   "cell_type": "code",
   "execution_count": 10,
   "metadata": {},
   "outputs": [],
   "source": [
    "# Apply the fix_encoding function to the Review column\n",
    "reviews['content'] = reviews['content'].apply(fix_encoding)"
   ]
  },
  {
   "cell_type": "code",
   "execution_count": 11,
   "metadata": {},
   "outputs": [],
   "source": [
    "# Map treebank part of speech tags to WordNet part of speech tags\n",
    "def get_wordnet_pos(treebank_tag):\n",
    "    if treebank_tag.startswith('J'):\n",
    "        return wordnet.ADJ\n",
    "    elif treebank_tag.startswith('V'):\n",
    "        return wordnet.VERB\n",
    "    elif treebank_tag.startswith('N'):\n",
    "        return wordnet.NOUN\n",
    "    elif treebank_tag.startswith('R'):\n",
    "        return wordnet.ADV\n",
    "    else:\n",
    "        return wordnet.NOUN"
   ]
  },
  {
   "cell_type": "code",
   "execution_count": 12,
   "metadata": {},
   "outputs": [],
   "source": [
    "# Data preprocessing function\n",
    "def preprocess_text(text):\n",
    "    \"\"\"\n",
    "    Preprocess text by removing punctuation, stop words, and lemmatizing\n",
    "    \"\"\"\n",
    "    # Remove punctuation\n",
    "    translator = str.maketrans('', '', string.punctuation)\n",
    "    text = text.translate(translator)\n",
    "\n",
    "    # Remove stop words\n",
    "    stop_words = set(stopwords.words('english'))\n",
    "    tokens = nltk.word_tokenize(text)\n",
    "    tokens = [token for token in tokens if token.lower() not in stop_words]\n",
    "    \n",
    "    # Lemmatize tokens using their part of speech tags\n",
    "    lemmatizer = WordNetLemmatizer()\n",
    "    pos_tags = nltk.pos_tag(tokens)\n",
    "    lemmatized_tokens = [lemmatizer.lemmatize(token, get_wordnet_pos(pos)) for token, pos in pos_tags]\n",
    "    \n",
    "    return ' '.join(lemmatized_tokens)"
   ]
  },
  {
   "cell_type": "code",
   "execution_count": 13,
   "metadata": {},
   "outputs": [],
   "source": [
    "# Apply the preprocess_text function to the Review column\n",
    "reviews['content'] = reviews['content'].apply(preprocess_text)"
   ]
  },
  {
   "cell_type": "code",
   "execution_count": 14,
   "metadata": {},
   "outputs": [],
   "source": [
    "# Remove rows with empty content\n",
    "reviews = reviews[reviews['content'] != '']"
   ]
  },
  {
   "cell_type": "code",
   "execution_count": 17,
   "metadata": {},
   "outputs": [
    {
     "data": {
      "text/html": [
       "<div>\n",
       "<style scoped>\n",
       "    .dataframe tbody tr th:only-of-type {\n",
       "        vertical-align: middle;\n",
       "    }\n",
       "\n",
       "    .dataframe tbody tr th {\n",
       "        vertical-align: top;\n",
       "    }\n",
       "\n",
       "    .dataframe thead th {\n",
       "        text-align: right;\n",
       "    }\n",
       "</style>\n",
       "<table border=\"1\" class=\"dataframe\">\n",
       "  <thead>\n",
       "    <tr style=\"text-align: right;\">\n",
       "      <th></th>\n",
       "      <th>userName</th>\n",
       "      <th>content</th>\n",
       "      <th>score</th>\n",
       "      <th>thumbsUpCount</th>\n",
       "      <th>at</th>\n",
       "    </tr>\n",
       "  </thead>\n",
       "  <tbody>\n",
       "    <tr>\n",
       "      <th>0</th>\n",
       "      <td>sateesh gunda</td>\n",
       "      <td>CheatingI cancel subscription 2days even thoug...</td>\n",
       "      <td>1</td>\n",
       "      <td>0</td>\n",
       "      <td>2024-09-21 16:07:04</td>\n",
       "    </tr>\n",
       "    <tr>\n",
       "      <th>1</th>\n",
       "      <td>Alexis Harber</td>\n",
       "      <td>Im echo everyone elses sentiment new update la...</td>\n",
       "      <td>1</td>\n",
       "      <td>0</td>\n",
       "      <td>2024-09-21 16:03:47</td>\n",
       "    </tr>\n",
       "    <tr>\n",
       "      <th>2</th>\n",
       "      <td>Carly-jade Howard</td>\n",
       "      <td>really like great bdays</td>\n",
       "      <td>3</td>\n",
       "      <td>0</td>\n",
       "      <td>2024-09-21 15:39:27</td>\n",
       "    </tr>\n",
       "    <tr>\n",
       "      <th>3</th>\n",
       "      <td>Bryan Shackelford</td>\n",
       "      <td>App keep crash open crash cant even use guess ...</td>\n",
       "      <td>1</td>\n",
       "      <td>1</td>\n",
       "      <td>2024-09-21 15:28:41</td>\n",
       "    </tr>\n",
       "    <tr>\n",
       "      <th>4</th>\n",
       "      <td>Tim Tucker</td>\n",
       "      <td>messed accurate go website get accurate depict...</td>\n",
       "      <td>2</td>\n",
       "      <td>1</td>\n",
       "      <td>2024-09-21 15:19:33</td>\n",
       "    </tr>\n",
       "  </tbody>\n",
       "</table>\n",
       "</div>"
      ],
      "text/plain": [
       "            userName                                            content  \\\n",
       "0      sateesh gunda  CheatingI cancel subscription 2days even thoug...   \n",
       "1      Alexis Harber  Im echo everyone elses sentiment new update la...   \n",
       "2  Carly-jade Howard                            really like great bdays   \n",
       "3  Bryan Shackelford  App keep crash open crash cant even use guess ...   \n",
       "4         Tim Tucker  messed accurate go website get accurate depict...   \n",
       "\n",
       "   score  thumbsUpCount                   at  \n",
       "0      1              0  2024-09-21 16:07:04  \n",
       "1      1              0  2024-09-21 16:03:47  \n",
       "2      3              0  2024-09-21 15:39:27  \n",
       "3      1              1  2024-09-21 15:28:41  \n",
       "4      2              1  2024-09-21 15:19:33  "
      ]
     },
     "execution_count": 17,
     "metadata": {},
     "output_type": "execute_result"
    }
   ],
   "source": [
    "reviews.head()"
   ]
  },
  {
   "cell_type": "code",
   "execution_count": 16,
   "metadata": {},
   "outputs": [],
   "source": [
    "# Save the cleaned data to a new CSV file\n",
    "# reviews.to_csv('cleaned_reviews.csv', index=False)"
   ]
  }
 ],
 "metadata": {
  "kernelspec": {
   "display_name": "Python 3",
   "language": "python",
   "name": "python3"
  },
  "language_info": {
   "codemirror_mode": {
    "name": "ipython",
    "version": 3
   },
   "file_extension": ".py",
   "mimetype": "text/x-python",
   "name": "python",
   "nbconvert_exporter": "python",
   "pygments_lexer": "ipython3",
   "version": "3.12.5"
  }
 },
 "nbformat": 4,
 "nbformat_minor": 2
}
