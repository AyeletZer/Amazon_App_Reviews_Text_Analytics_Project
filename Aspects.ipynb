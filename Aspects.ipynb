{
 "cells": [
  {
   "cell_type": "code",
   "execution_count": 5,
   "metadata": {},
   "outputs": [],
   "source": [
    "import pandas as pd\n",
    "from transformers import AutoTokenizer, AutoModelForSequenceClassification\n",
    "import nltk\n",
    "from nltk.tokenize import word_tokenize\n",
    "from nltk.tag import pos_tag\n",
    "import warnings\n",
    "warnings.filterwarnings(\"ignore\")"
   ]
  },
  {
   "cell_type": "code",
   "execution_count": 6,
   "metadata": {},
   "outputs": [],
   "source": [
    "# Load the cleaned dataset\n",
    "df = pd.read_csv('cleaned_reviews.csv')"
   ]
  },
  {
   "cell_type": "code",
   "execution_count": 7,
   "metadata": {},
   "outputs": [
    {
     "data": {
      "text/html": [
       "<div>\n",
       "<style scoped>\n",
       "    .dataframe tbody tr th:only-of-type {\n",
       "        vertical-align: middle;\n",
       "    }\n",
       "\n",
       "    .dataframe tbody tr th {\n",
       "        vertical-align: top;\n",
       "    }\n",
       "\n",
       "    .dataframe thead th {\n",
       "        text-align: right;\n",
       "    }\n",
       "</style>\n",
       "<table border=\"1\" class=\"dataframe\">\n",
       "  <thead>\n",
       "    <tr style=\"text-align: right;\">\n",
       "      <th></th>\n",
       "      <th>userName</th>\n",
       "      <th>content</th>\n",
       "      <th>score</th>\n",
       "      <th>thumbsUpCount</th>\n",
       "      <th>at</th>\n",
       "    </tr>\n",
       "  </thead>\n",
       "  <tbody>\n",
       "    <tr>\n",
       "      <th>0</th>\n",
       "      <td>sateesh gunda</td>\n",
       "      <td>CheatingI cancel subscription 2days even thoug...</td>\n",
       "      <td>1</td>\n",
       "      <td>0</td>\n",
       "      <td>2024-09-21 16:07:04</td>\n",
       "    </tr>\n",
       "    <tr>\n",
       "      <th>1</th>\n",
       "      <td>Alexis Harber</td>\n",
       "      <td>Im echo everyone elses sentiment new update la...</td>\n",
       "      <td>1</td>\n",
       "      <td>0</td>\n",
       "      <td>2024-09-21 16:03:47</td>\n",
       "    </tr>\n",
       "    <tr>\n",
       "      <th>2</th>\n",
       "      <td>Carly-jade Howard</td>\n",
       "      <td>really like great bdays</td>\n",
       "      <td>3</td>\n",
       "      <td>0</td>\n",
       "      <td>2024-09-21 15:39:27</td>\n",
       "    </tr>\n",
       "    <tr>\n",
       "      <th>3</th>\n",
       "      <td>Bryan Shackelford</td>\n",
       "      <td>App keep crash open crash cant even use guess ...</td>\n",
       "      <td>1</td>\n",
       "      <td>1</td>\n",
       "      <td>2024-09-21 15:28:41</td>\n",
       "    </tr>\n",
       "    <tr>\n",
       "      <th>4</th>\n",
       "      <td>Tim Tucker</td>\n",
       "      <td>messed accurate go website get accurate depict...</td>\n",
       "      <td>2</td>\n",
       "      <td>1</td>\n",
       "      <td>2024-09-21 15:19:33</td>\n",
       "    </tr>\n",
       "  </tbody>\n",
       "</table>\n",
       "</div>"
      ],
      "text/plain": [
       "            userName                                            content  \\\n",
       "0      sateesh gunda  CheatingI cancel subscription 2days even thoug...   \n",
       "1      Alexis Harber  Im echo everyone elses sentiment new update la...   \n",
       "2  Carly-jade Howard                            really like great bdays   \n",
       "3  Bryan Shackelford  App keep crash open crash cant even use guess ...   \n",
       "4         Tim Tucker  messed accurate go website get accurate depict...   \n",
       "\n",
       "   score  thumbsUpCount                   at  \n",
       "0      1              0  2024-09-21 16:07:04  \n",
       "1      1              0  2024-09-21 16:03:47  \n",
       "2      3              0  2024-09-21 15:39:27  \n",
       "3      1              1  2024-09-21 15:28:41  \n",
       "4      2              1  2024-09-21 15:19:33  "
      ]
     },
     "execution_count": 7,
     "metadata": {},
     "output_type": "execute_result"
    }
   ],
   "source": [
    "df.head()"
   ]
  },
  {
   "cell_type": "code",
   "execution_count": 8,
   "metadata": {},
   "outputs": [],
   "source": [
    "# Initialize the tokenizer and model\n",
    "tokenizer = AutoTokenizer.from_pretrained(\"LiYuan/amazon-review-sentiment-analysis\")\n",
    "model = AutoModelForSequenceClassification.from_pretrained(\"LiYuan/amazon-review-sentiment-analysis\")"
   ]
  },
  {
   "cell_type": "code",
   "execution_count": 9,
   "metadata": {},
   "outputs": [],
   "source": [
    "def get_sentiment(text):\n",
    "    # Truncate the text to a maximum length of 512 tokens\n",
    "    inputs = tokenizer(text, return_tensors=\"pt\", truncation=True, max_length=512)\n",
    "    outputs = model(**inputs)\n",
    "    sentiment = outputs.logits.argmax(dim=1).item()\n",
    "    return 'POSITIVE' if sentiment == 1 else 'NEGATIVE'"
   ]
  },
  {
   "cell_type": "code",
   "execution_count": 10,
   "metadata": {},
   "outputs": [],
   "source": [
    "# Create a new column for the sentiment of each review\n",
    "df['sentiment'] = df['content'].apply(get_sentiment)"
   ]
  },
  {
   "cell_type": "code",
   "execution_count": 11,
   "metadata": {},
   "outputs": [],
   "source": [
    "# Split the data into training and testing sets\n",
    "train_df = df.sample(frac=0.8, random_state=0)\n",
    "test_df = df.drop(train_df.index)"
   ]
  },
  {
   "cell_type": "code",
   "execution_count": 13,
   "metadata": {},
   "outputs": [],
   "source": [
    "# Analyze positive aspects in negative reviews\n",
    "negative_reviews = train_df[train_df['sentiment'] == 'NEGATIVE']\n",
    "positive_aspects = negative_reviews[negative_reviews['score'] > 3]['content']"
   ]
  },
  {
   "cell_type": "code",
   "execution_count": 14,
   "metadata": {},
   "outputs": [],
   "source": [
    "# Analyze negative aspects in positive reviews\n",
    "positive_reviews = train_df[train_df['sentiment'] == 'POSITIVE']\n",
    "negative_aspects = positive_reviews[positive_reviews['score'] < 3]['content']"
   ]
  },
  {
   "cell_type": "code",
   "execution_count": 15,
   "metadata": {},
   "outputs": [
    {
     "name": "stdout",
     "output_type": "stream",
     "text": [
      "Negative Aspects in Positive Reviews:\n",
      "4493                 love Amazon great price return easily\n",
      "19774    Great offer free delivery trial dont enough ex...\n",
      "41971    love Amazon app Ive good experience Amazon eve...\n",
      "46115    Solid app Works every time Simple easy access ...\n",
      "56053    Love app whatever look find time cheap anywher...\n",
      "                               ...                        \n",
      "45064    use amazon pretty much purchase convenient cus...\n",
      "52457    Good app thumb Would give 5 rating extremely d...\n",
      "55870    bad app forget password pain change wont let c...\n",
      "45743        Good price great deal right door thank amazon\n",
      "52100    amazon app really easy useful use different va...\n",
      "Name: content, Length: 15599, dtype: object\n"
     ]
    }
   ],
   "source": [
    "# View the results\n",
    "print('Negative Aspects in Positive Reviews:')\n",
    "print(positive_aspects)"
   ]
  },
  {
   "cell_type": "code",
   "execution_count": 16,
   "metadata": {},
   "outputs": [
    {
     "name": "stdout",
     "output_type": "stream",
     "text": [
      "Postivie Aspects in Negative Reviews:\n",
      "31316    app way well doesnt support Samsung s8 2 year ...\n",
      "42060    clunky really difficult sort filter feel prett...\n",
      "24998    Deals page Lightning Deals etc frequently fail...\n",
      "54987              recent update app keep lag really annoy\n",
      "11744    Ill still use Amazon Ill never go pay Amazon p...\n",
      "                               ...                        \n",
      "21578    Ok app great package come house great stuff gi...\n",
      "21187    Updating review 2 star recently Amazon shoppin...\n",
      "32162    Im put two star whenever open app look somethi...\n",
      "2363     cant apply filter search app quite slow lately...\n",
      "44823    Much slow previous version Menu bottom take fo...\n",
      "Name: content, Length: 125, dtype: object\n"
     ]
    }
   ],
   "source": [
    "print('Postivie Aspects in Negative Reviews:')\n",
    "print(negative_aspects)"
   ]
  },
  {
   "cell_type": "code",
   "execution_count": 17,
   "metadata": {},
   "outputs": [],
   "source": [
    "# Save the positive and negative aspects to CSV files\n",
    "# positive_aspects.to_csv('positive_aspects.csv', index=False)\n",
    "# negative_aspects.to_csv('negative_aspects.csv', index=False)"
   ]
  }
 ],
 "metadata": {
  "kernelspec": {
   "display_name": "Python 3",
   "language": "python",
   "name": "python3"
  },
  "language_info": {
   "codemirror_mode": {
    "name": "ipython",
    "version": 3
   },
   "file_extension": ".py",
   "mimetype": "text/x-python",
   "name": "python",
   "nbconvert_exporter": "python",
   "pygments_lexer": "ipython3",
   "version": "3.12.5"
  }
 },
 "nbformat": 4,
 "nbformat_minor": 2
}
